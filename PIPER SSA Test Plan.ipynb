{
 "metadata": {
  "name": "",
  "signature": "sha256:20ea0383f03de81e8f7e7200d3823efc4b23ca890d58d652f5ac20294fecae77"
 },
 "nbformat": 3,
 "nbformat_minor": 0,
 "worksheets": [
  {
   "cells": [
    {
     "cell_type": "heading",
     "level": 1,
     "metadata": {},
     "source": [
      "PIPER Series Array Chip Screening Plan"
     ]
    },
    {
     "cell_type": "markdown",
     "metadata": {},
     "source": [
      "Justin Lazear\n",
      "\n",
      "2014-06-17"
     ]
    },
    {
     "cell_type": "heading",
     "level": 2,
     "metadata": {},
     "source": [
      "Overview"
     ]
    },
    {
     "cell_type": "markdown",
     "metadata": {},
     "source": [
      "The new series array chips for the 2-stage SQUID readout system have the same pad configuration and geometry as the series array chips for the 3-stage SQUID readout system. As such, PIPER will re-use the designs and hardware originally intended for the 3-stage readout. \n",
      "\n",
      "Each series array chip is permanently mounted onto a toothbrush board. Each toothbrush board has 6 sockets at one end (3 pairs: IN, FB, BIAS). Four toothbrush boards are clamped together into a single module by a copper capture comb. Shielding is provided by a 10:1 aspect ratio welded niobium box with a closed end that is slid over the four boards. The sockets on the four boards then form a 4x6 female receptacle which can be reversibly mated to a bed of pins, e.g. on the series array backplane or a dip probe.\n",
      "\n",
      "The assembled modules are flight modules.\n",
      "\n",
      "A module of this design is in use in the SHINY SQUID readout and has not exhibited any issues. "
     ]
    },
    {
     "cell_type": "markdown",
     "metadata": {},
     "source": [
      "The series array chips will be screened after they have been mounted onto their toothbrush boards and assembled into modules using a dip probe inserted into a LHe storage dewar. A single module (i.e. 4 series array chips) may be tested in each dip test. \n",
      "\n",
      "PIPER requires enough series arrays to run 4 MCEs. Each MCE requires 8 modules of 4 toothbrush boards, for a total of 32 series array chips per MCE. Thus, PIPER requires 128 working series array chips. Assuming a 100% yield, this corresponds to 32 dip tests. "
     ]
    },
    {
     "cell_type": "heading",
     "level": 2,
     "metadata": {},
     "source": [
      "Toothbrush Boards"
     ]
    },
    {
     "cell_type": "markdown",
     "metadata": {},
     "source": [
      "The toothbrush boards are designed to position the series array chips far inside the 10:1 aspect ratio closed-end welded niobium shield. \n",
      "\n",
      "<img src=\"toothbrush_board.png\">\n",
      "\n",
      "The series array chip is mounted near the end of the board with a square of niobium foil underneath."
     ]
    },
    {
     "cell_type": "markdown",
     "metadata": {},
     "source": [
      "Toothbrush board assembly:\n",
      "\n",
      "1. Bond using Hysol EA 9309.3 epoxy a 0.25\" x 0.25\" x 0.005\" square of niobium foil to the bond pad. Let cure for 1 hour at 50 deg C. \n",
      "2. The SSA chips come coated with photoresist. Clean the photoresist by alternating between acetone and alcohol, ending with alcohol. \n",
      "3. Bond using Hysol EA 9309.3 epoxy the SSA chip onto the niobium foil. Make sure the bond pads on the board correctly align with the bond pads on the SSA chip.\n",
      "4. With aluminum wedge bonds, wirebond the SSA chip to the toothbrush board. This should require 6 wirebonds: one pair for each of IN, FB, and BIAS. See below for a completed example.\n",
      "5. _[optional]_ With gold wedge bonds, make thermal wirebonds from the toothbrush board to the SSA chip.\n",
      "\n",
      "<img src=\"toothbrush-ssa_microscope.jpg\">"
     ]
    },
    {
     "cell_type": "heading",
     "level": 2,
     "metadata": {},
     "source": [
      "Toothbrush Modules"
     ]
    },
    {
     "cell_type": "markdown",
     "metadata": {},
     "source": [
      "The toothbrush boards are assembled into modules. Each module holds 4 toothbrush boards. The modules are intended to provide a means of magnetically shielding the series arrays and to provide a convenient connectorization of the series arrays. \n",
      "\n",
      "<img src=\"toothbrush_module.jpg\">"
     ]
    },
    {
     "cell_type": "markdown",
     "metadata": {},
     "source": [
      "Toothbrush module assembly:\n",
      "\n",
      "1. ... \n",
      "2. The procedure for assembling the toothbrush modules has been demonstrated previously.\n",
      "3. It is not yet reproduced here.\n",
      "4. ..."
     ]
    },
    {
     "cell_type": "heading",
     "level": 2,
     "metadata": {},
     "source": [
      "Dip Probe"
     ]
    },
    {
     "cell_type": "markdown",
     "metadata": {},
     "source": [
      "The dip probe provides a mounting bracket for immersing a toothbrush module in LHe in a 100 L storage dewar and provides electrical connections to the SSA. \n",
      "\n",
      "<img src=\"overview.png\">"
     ]
    },
    {
     "cell_type": "heading",
     "level": 3,
     "metadata": {},
     "source": [
      "Mechanical"
     ]
    },
    {
     "cell_type": "markdown",
     "metadata": {},
     "source": [
      "The dip probe consists of a warm breakout box, a long stem, and a cold mounting bracket for the toothbrush module. The warm breakout box has BNC connectors for accessing all parts of all 4 channels of the SSA chips in the modules, and also houses the amplifier board that reads out the SSAs. The stem houses the SMA cables that extend from the warm amplifier board to the toothbrush backplane. The toothbrush backplane has a grid of 4 x 6 pins that connect to the sockets of the toothbrush module. The toothbrush module and niobium shield is secured by an aluminum mounting bracket. \n",
      "\n",
      "<img src=\"full.png\">\n",
      "\n",
      "<img src=\"section.png\">"
     ]
    },
    {
     "cell_type": "heading",
     "level": 3,
     "metadata": {},
     "source": [
      "Electrical"
     ]
    },
    {
     "cell_type": "markdown",
     "metadata": {},
     "source": [
      "#HERE! #DELME"
     ]
    },
    {
     "cell_type": "heading",
     "level": 2,
     "metadata": {},
     "source": [
      "Extras"
     ]
    },
    {
     "cell_type": "markdown",
     "metadata": {},
     "source": [
      "<img src=\"box.jpg\">\n",
      "<img src=\"probe.jpg\">\n",
      "<img src=\"probe2.jpg\">\n",
      "<img src=\"toothbrush_backplane.jpg\">"
     ]
    },
    {
     "cell_type": "markdown",
     "metadata": {},
     "source": [
      "Chips that fail the screening will not be removed from their toothbrush boards. Rather, a new toothbrush board with a new series array will replace the failed board in the module and the entire module will be re-tested. "
     ]
    },
    {
     "cell_type": "code",
     "collapsed": false,
     "input": [
      "ls"
     ],
     "language": "python",
     "metadata": {},
     "outputs": [
      {
       "output_type": "stream",
       "stream": "stdout",
       "text": [
        "I-phi.png                      box.jpg\r\n",
        "PIPER SSA Test Plan.ipynb      full.png\r\n",
        "SA circuit.png                 notes\r\n",
        "SSA pinout.png                 \u001b[34moriginals\u001b[m\u001b[m/\r\n",
        "SSA_dip_test_plan.txt          overview.png\r\n",
        "SSA_dip_test_plan2.txt         probe.jpg\r\n",
        "Test circuit.png               probe2.jpg\r\n",
        "bias_step_1.png                section.png\r\n",
        "bias_step_2.png                toothbrush-ssa_microscope.jpg\r\n",
        "block diagram.png              toothbrush_backplane.jpg\r\n"
       ]
      }
     ],
     "prompt_number": 1
    }
   ],
   "metadata": {}
  }
 ]
}