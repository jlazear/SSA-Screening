{
 "metadata": {
  "name": "",
  "signature": "sha256:7d85cf1fd3c77770d491265e1632885c2c99ae594821846f084363d5fcdb4966"
 },
 "nbformat": 3,
 "nbformat_minor": 0,
 "worksheets": [
  {
   "cells": [
    {
     "cell_type": "heading",
     "level": 1,
     "metadata": {},
     "source": [
      "PIPER Series Array Chip Screening Plan"
     ]
    },
    {
     "cell_type": "markdown",
     "metadata": {},
     "source": [
      "Justin Lazear\n",
      "\n",
      "2014-07-09"
     ]
    },
    {
     "cell_type": "heading",
     "level": 2,
     "metadata": {},
     "source": [
      "Overview"
     ]
    },
    {
     "cell_type": "markdown",
     "metadata": {},
     "source": [
      "The new series array chips for the 2-stage SQUID readout system have the same pad configuration and geometry as the series array chips for the 3-stage SQUID readout system. As such, PIPER will re-use the designs and hardware originally intended for the 3-stage readout. \n",
      "\n",
      "Each series array chip is permanently mounted onto a toothbrush board. Each toothbrush board has 6 sockets at one end (3 pairs: IN, FB, BIAS). Four toothbrush boards are clamped together into a single module by a copper capture comb. Shielding is provided by a 10:1 aspect ratio welded niobium box with a closed end that is slid over the four boards. The sockets on the four boards then form a 4x6 female receptacle which can be reversibly mated to a bed of pins, e.g. on the series array backplane or a dip probe.\n",
      "\n",
      "The assembled modules are flight modules.\n",
      "\n",
      "A module of this design is in use in the SHINY SQUID readout and has not exhibited any issues. "
     ]
    },
    {
     "cell_type": "markdown",
     "metadata": {},
     "source": [
      "The series array chips will be screened after they have been mounted onto their toothbrush boards and assembled into modules using a dip probe inserted into a LHe storage dewar. A single module (i.e. 4 series array chips) may be tested in each dip test. \n",
      "\n",
      "PIPER requires enough series arrays to run 4 MCEs. Each MCE requires 8 modules of 4 toothbrush boards, for a total of 32 series array chips per MCE. Thus, PIPER requires 128 working series array chips. Assuming a 100% yield, this corresponds to 32 dip tests. "
     ]
    },
    {
     "cell_type": "heading",
     "level": 2,
     "metadata": {},
     "source": [
      "Toothbrush Boards"
     ]
    },
    {
     "cell_type": "markdown",
     "metadata": {},
     "source": [
      "The toothbrush boards are designed to position the series array chips far inside the 10:1 aspect ratio closed-end welded niobium shield. \n",
      "\n",
      "<img src=\"tb_board_small.JPG\">\n",
      "\n",
      "The middle board shows a bare toothbrush board. The bottom board shows the niobium square being glued onto the board. The top board shows a completed toothbrush board (SA chip failed for that particular one, hence the label \"BAD\"). \n",
      "\n",
      "The series array chip is mounted near the end of the board with a square of niobium foil underneath."
     ]
    },
    {
     "cell_type": "markdown",
     "metadata": {},
     "source": [
      "<h3>Toothbrush board assembly:</h3>\n",
      "\n",
      "1. Bond using Hysol EA 9309.3 epoxy a 0.25\" x 0.25\" x 0.005\" square of niobium foil to the SSA chip pad. \n",
      "    1. Procedure must be done under an active fume hood. Wear gloves.\n",
      "    2. Clean niobium foil square with a sequence of acetone, alcohol (ethyl), and de-ionized water. Let dry on a tech wipe.\n",
      "    3. Apply kapton tape to a rigid spacer square and clean the surface of the kapton tape. \n",
      "    4. Mix a batch of Hysol EA 9309.3 in accordance with its data sheet (<a href=\"https://tds.us.henkel.com/NA/UT/HNAUTTDS.nsf/web/9D207BBB9F2FFA3B8525792800663F9A/$File/Hysol_EA_9309_3NA-EN.pdf\">Hysol EA 9309.3</a>). Note that the mixture has a pot life of 35 minutes. \n",
      "    5. Spread a thin layer of Hysol onto the SSA pad of the toothbrush board. \n",
      "    6. Position the niobium foil square and apply pressure with a swab. Remove with a swab any excess Hysol. Hysol on bond pads must be cleaned with an alcohol swab.\n",
      "    7. Hysol EA 9309.3 contains 5 mil glass beads, so it may be clamped without risk of compressing the epoxy joint smaller than the bond line width. Position a rigid spacer square with the clean kapton surface in contact with the niobium square. Apply pressure to the spacer. Remove excess Hysol. \n",
      "    8. Apply a clamp to the board-foil-kapton-spacer stack. \n",
      "    9. Let cure overnight at 50 deg C.\n",
      "    \n",
      "2. Prepare the SSA chip.\n",
      "    1. Procedure must be done under an active fume hood. Wear gloves.\n",
      "    2. SSA chips are not marked with a serial number. They will be designated according to their row and column in the package. All information and activities with a chip must be logged with the correct designation in the SSA chip tracking spreadsheet.\n",
      "    3. Always remove chips in standard English reading order (left to right and top to bottom). Visually inspect and photograph the desired SSA chip. If there are any visible defects, make note of this in the log and skip to the next chip. Log the condition of the chip that will be used. Mark on the toothbrush board the designation of the SSA chip that will be placed on it.\n",
      "    4. The SSA chips do not have a protective passivation coating. __USE ONLY ESD-SAFE PLASTIC-TIPPED TWEEZERS AND MANIPULATE THE CHIPS ONLY FROM THE SIDES__. Do not touch the top surface of the SSA chip with _any_ tools. The SSA chips are ESD-sensitive. __USE ALL STANDARD ESD PRECAUTIONS WHEN HANDLING SSA CHIPS__. \n",
      "    5. Remove the the chip from the vacuum release tray using the VR tool.\n",
      "    6. Clean the chip with a sequence of acetone, alcohol (ethyl), and de-ionized water. Let dry on a tech wipe. \n",
      "    7. Mix a batch of Hysol EA 9309.3 in accordance with its data sheet (<a href=\"https://tds.us.henkel.com/NA/UT/HNAUTTDS.nsf/web/9D207BBB9F2FFA3B8525792800663F9A/$File/Hysol_EA_9309_3NA-EN.pdf\">Hysol EA 9309.3</a>). Note that the mixture has a pot life of 35 minutes. \n",
      "    8. Spread a thin layer of Hysol onto the niobium foil square. \n",
      "    9. Align the SSA chip (make sure the bond pads line up!), then press the SSA chip into position. __Do not touch the top surface of the chip__. \n",
      "    10. Do not clamp. Let cure at 50 deg C overnight. \n",
      "    \n",
      "3. Wirebond the SSA chip to the toothbrush board with aluminum wedge bonds. There are 6 connections: one pair for each of IN, FB, and BIAS. Make two wirebonds per connection, for a total of 12 wirebonds per SSA chip. \n",
      "4. _[optional]_ With gold wedge bonds, make thermal wirebonds from the toothbrush board to the SSA chip.\n",
      "5. All assembled boards must stay in the nitrogen dry box unless in use. Do not stack boards. Do not place anything on top of an assembled board. Do not place assembled boards SSA-side down. Use the toothbrush board storage tray to store assembled boards. \n",
      "\n",
      "<img src=\"toothbrush-ssa_microscope.jpg\" height=800>\n",
      "\n",
      "Figure: (Top) PIPER-style toothbrush board with SSA chip mounted. On the left of the chip, the bond pads are, from the top: THERMAL, FB, FB, THERMAL, OUT, OUT, THERMAL. On the right of the chip, the bond pads are, from the top: THERMAL, IN, IN, THERMAL. (Bottom) Old-style series array board with SSA chip mounted."
     ]
    },
    {
     "cell_type": "heading",
     "level": 2,
     "metadata": {},
     "source": [
      "Toothbrush Modules"
     ]
    },
    {
     "cell_type": "markdown",
     "metadata": {},
     "source": [
      "The toothbrush boards are assembled into modules. Each module holds 4 toothbrush boards. The modules are intended to provide a means of magnetically shielding the series arrays and to provide a convenient connectorization of the series arrays. \n",
      "\n",
      "<img src=\"toothbrush_module.jpg\">"
     ]
    },
    {
     "cell_type": "markdown",
     "metadata": {},
     "source": [
      "Toothbrush module assembly:\n",
      "\n",
      "1. ... \n",
      "2. The procedure for assembling the toothbrush modules has been demonstrated previously.\n",
      "3. It is not yet reproduced here.\n",
      "4. ..."
     ]
    },
    {
     "cell_type": "heading",
     "level": 2,
     "metadata": {},
     "source": [
      "Dip Probe"
     ]
    },
    {
     "cell_type": "markdown",
     "metadata": {},
     "source": [
      "The dip probe provides a mounting bracket for immersing a toothbrush module in LHe in a 100 L storage dewar and provides electrical connections to the SSA. \n",
      "\n",
      "<img src=\"overview.png\">"
     ]
    },
    {
     "cell_type": "heading",
     "level": 3,
     "metadata": {},
     "source": [
      "Mechanical"
     ]
    },
    {
     "cell_type": "markdown",
     "metadata": {},
     "source": [
      "The dip probe consists of a warm breakout box, a long stem, and a cold mounting bracket for the toothbrush module. The warm breakout box has BNC connectors for accessing all parts of all 4 channels of the SSA chips in the modules, and also houses the amplifier board that reads out the SSAs. The stem houses the SMA cables that extend from the warm amplifier board to the toothbrush backplane. The toothbrush backplane has a grid of 4 x 6 pins on a 0.1\" x 0.125\" grid that connect to the sockets of the toothbrush module. The toothbrush module and niobium shield is secured by an aluminum mounting bracket. \n",
      "\n",
      "<img src=\"full.png\">\n",
      "\n",
      "<img src=\"section.png\">"
     ]
    },
    {
     "cell_type": "heading",
     "level": 3,
     "metadata": {},
     "source": [
      "Electrical"
     ]
    },
    {
     "cell_type": "markdown",
     "metadata": {},
     "source": [
      "The PSquid SQUID controller board will be used to drive the series array. While the PSquid board is capable of driving the series arrays with no additional electronics, we will not be utilizing this capability. The dip probe was designed for a previous generation of SSA screening tests 3 years ago and was designed with biasing and readout circuitry. We will use the dip probe's circuitry and use the PSquid board as a fast ADC/DAC card, since this scheme requires no modifications to the hardware. \n",
      "\n",
      "The PSquid board was used for the SPTC measurements in SHINY in March 2014. The dip probe was used for screening 32 old style series arrays in the spring of 2012. There are no concerns about untested hardware. \n",
      "\n",
      "The PSquid and dip probe are connected as shown:\n",
      "\n",
      "<img src=\"block diagram.png\">\n",
      "\n",
      "PSquid requires +-15 V and +5V. The screening process is not expected to require especially low noise, so a switching power supply will be used. BNCs connect the PSquid board and dip probe box. All PSquid connections except DiffAmp are DACs. The DiffAmp connection is the input to an ADC on the PSquid board. Note that the PSquid signal names do not match the dip probe signal names. This is because the PSquid bias circuitry is being bypassed and we are just using the PSquid channels as DACs and all of the S1 and S2 outputs on PSquid are identical. They all have an output range of 0 to 1.024 V and can source ~20 mA. The signal names on the dip probe match their functionality, since we are using the dip probe bias circuitry.\n",
      "\n",
      "The DiffAmp PSquid input passes through an instrumentation amplifier and adjustable gain amplifier. The amplifier chain has a minimum gain of 1 and a maximum gain of over 10^5. It is read out by a +- 2.048 V 16-bit ADC.\n",
      "\n",
      "Only a single channel of the series array module can be read out at a time. The BNCs will be moved to read out the other channels. "
     ]
    },
    {
     "cell_type": "markdown",
     "metadata": {},
     "source": [
      "The dip probe is shown schematically:\n",
      "\n",
      "<img src=\"SA circuit.png\">\n",
      "\n",
      "The IN (input) and FB (feedback) signals are sent straight down to the toothbrush backplane via 50 Ohm SMA coax, where they are terminated by a 50 Ohm resistor and converted to a current bias by a 1 kOhm resistor. \n",
      "\n",
      "The BIAS (S3 bias) signal follows a standard SQUID biasing path. It is transported to the toothbrush backplane by 50 Ohm SMA coax and terminated by a 50 Ohm resistor. The 1 kOhm series resistor converts the signal back to a current bias. \n",
      "\n",
      "The amplifier is a copy of the amplifier used in the MCEs and has a gain of 200. "
     ]
    },
    {
     "cell_type": "markdown",
     "metadata": {},
     "source": [
      "<img src=\"SSA pinout.png\">\n",
      "\n",
      "The toothbrush backplane is a small board that converts from SMA to the bed of pins necessary to connect to the toothbrush module and provides termination and series resistors. The SMA cables are soldered sideways onto large pads on one side of the board. On the other side of the board are the resistors and pins. \n",
      "\n",
      "The toothbrush backplane connects to the toothbrush module and completes the connection to the series arrays."
     ]
    },
    {
     "cell_type": "heading",
     "level": 2,
     "metadata": {},
     "source": [
      "Software and Test Strategy"
     ]
    },
    {
     "cell_type": "markdown",
     "metadata": {},
     "source": [
      "The PSquid software has already been developed for the single pixel tests. A test controller script will be written to automate the testing. The testing may be automated with little difficulty to the point that technicians and interns are capable of operating the apparatus without supervision. \n",
      "\n",
      "PSquid has built-in sweep functionality that allows it to sweep through DAC settings in a stairstep pattern while measuring the response. A typical dwell period at each step is ~10 ms (~100 Hz). This period is chosen to have a node near 60 Hz and provide a long settling period after the stairstep. However, the dwell period can be as fast as 1 kHz. For the 100 Hz rate, a 100 x 100 grid of FB and IN values can be completed in 100 seconds. For four channels, we require less than 10 minutes of testing. \n",
      "\n",
      "The PSquid board is capable of sampling at up to 10 kHz. If necessary, the step response can be measured with up to a 5 kHz bandwidth.\n",
      "\n",
      "An automated data reduction script will be written to reduce and tabulate the data. "
     ]
    },
    {
     "cell_type": "heading",
     "level": 2,
     "metadata": {},
     "source": [
      "Chip Failure"
     ]
    },
    {
     "cell_type": "markdown",
     "metadata": {},
     "source": [
      "Chips that fail the screening must be replaced. The chips are not intended to be removed from the toothbrush boards, nor is it cost effective to attempt to do so. Rather, if a replacement chip is required, a new toothbrush board will be made.\n",
      "\n",
      "The capture combs may be opened and the toothbrush board with the failed chip may be removed and replaced. The module is then reassembled as normal and the entire module is retested. "
     ]
    },
    {
     "cell_type": "heading",
     "level": 2,
     "metadata": {},
     "source": [
      "Hardware Procurement"
     ]
    },
    {
     "cell_type": "markdown",
     "metadata": {},
     "source": [
      "No hardware needs to be procured before testing may commence. \n",
      "\n",
      "* Dip Probe: 2 available\n",
      "* PSquid: 1 available\n",
      "* Toothbrush boards: ~150 available\n",
      "* Capture combs: ~40 available\n",
      "* Niobium foil squares: ~50 available (need ~75 more)"
     ]
    },
    {
     "cell_type": "heading",
     "level": 2,
     "metadata": {},
     "source": [
      "Schedule"
     ]
    },
    {
     "cell_type": "markdown",
     "metadata": {},
     "source": [
      "The time required to perform the tests is then dominated by the time it takes to prepare and dunk the samples. \n",
      "\n",
      "The time required to assemble toothbrush board and modules must be performed regardless and is not included in this accounting. The time required to write the automation and reduction scripts are also not included, since they must also be done regardless of strategy. \n",
      "\n",
      "* Mounting toothbrush module into dip probe: 10 minutes\n",
      "* Dipping probe into storage dewar and connecting electronics: 15 minutes\n",
      "* Running tests: 10 minutes\n",
      "* Extracting and warming probe: 30 minutes (with heat gun, longer without)\n",
      "* TOTAL: ~1 hr \n",
      "\n",
      "PIPER requires 32 modules to be tested for a total of ~30 hours of work.\n",
      "\n",
      "2 dip probes are available, but only 1 PSquid card is available. By alternating the dip probes, the amount of attended work could be cut down to about 20 hours, since the warming of the probes may be left unattended.\n",
      "\n",
      "The testing phase could be reasonably completed with 1-2 weeks of testing."
     ]
    },
    {
     "cell_type": "markdown",
     "metadata": {},
     "source": [
      "<hr size=5>"
     ]
    }
   ],
   "metadata": {}
  }
 ]
}